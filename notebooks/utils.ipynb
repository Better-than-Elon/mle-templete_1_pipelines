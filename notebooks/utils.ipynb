{
 "cells": [
  {
   "cell_type": "code",
   "execution_count": 2,
   "outputs": [
    {
     "name": "stdout",
     "output_type": "stream",
     "text": [
      "C:\\Users\\stfu_\\OneDrive\\Desktop\\BigData\\lab1\\my-mle-template\n"
     ]
    }
   ],
   "source": [
    "cd .."
   ],
   "metadata": {
    "collapsed": false,
    "pycharm": {
     "name": "#%%\n"
    }
   }
  },
  {
   "cell_type": "code",
   "execution_count": 52,
   "outputs": [],
   "source": [
    "import configparser\n",
    "config = configparser.ConfigParser()\n",
    "\n",
    "config['data.raw'] = {\n",
    "    'data1': 'data/winequality-red.csv',\n",
    "    'data2': 'data/winequality-white.csv',\n",
    "    'sep': ';',\n",
    "    'train_pers': '0.8',\n",
    "}\n",
    "config['data.prep'] = {\n",
    "    'train_x': 'data/train_X.csv',\n",
    "    'train_y': 'data/train_y.csv',\n",
    "    'test_x': 'data/test_X.csv',\n",
    "    'test_y': 'data/test_y.csv',\n",
    "}\n",
    "\n",
    "with open('example.ini', 'w') as configfile:\n",
    "  config.write(configfile)"
   ],
   "metadata": {
    "collapsed": false,
    "pycharm": {
     "name": "#%%\n"
    }
   }
  },
  {
   "cell_type": "code",
   "execution_count": null,
   "outputs": [],
   "source": [
    "import configparser\n",
    "import pandas as pd\n",
    "from sklearn.model_selection import train_test_split\n",
    "\n",
    "\n",
    "if __name__ == '__main__':\n",
    "    config = configparser.ConfigParser()\n",
    "    config.sections()\n",
    "    config.read('example.ini')\n",
    "\n",
    "    data = []\n",
    "    sep = config['data.raw']['sep']\n",
    "    for k, path in config['data.raw'].items():\n",
    "        if 'data' in k:\n",
    "            data.append(pd.read_csv(path, sep=sep))\n",
    "    data = pd.concat(data)\n",
    "    X_train, X_test, y_train, y_test = train_test_split(\n",
    "        data.iloc[:, :-1], data.iloc[:, -1],\n",
    "        train_size=float(config['data.raw']['train_pers']), random_state=42\n",
    "    )\n",
    "    X_train.to_csv(config['data.prep']['train_x'], index=False)\n",
    "    y_train.to_csv(config['data.prep']['train_y'], index=False)\n",
    "    X_test.to_csv(config['data.prep']['test_x'], index=False)\n",
    "    y_test.to_csv(config['data.prep']['test_y'], index=False)"
   ],
   "metadata": {
    "collapsed": false,
    "pycharm": {
     "name": "#%%\n"
    }
   }
  },
  {
   "cell_type": "code",
   "execution_count": null,
   "outputs": [],
   "source": [],
   "metadata": {
    "collapsed": false,
    "pycharm": {
     "name": "#%%\n"
    }
   }
  }
 ],
 "metadata": {
  "kernelspec": {
   "display_name": "Python 3",
   "language": "python",
   "name": "python3"
  },
  "language_info": {
   "codemirror_mode": {
    "name": "ipython",
    "version": 2
   },
   "file_extension": ".py",
   "mimetype": "text/x-python",
   "name": "python",
   "nbconvert_exporter": "python",
   "pygments_lexer": "ipython2",
   "version": "2.7.6"
  }
 },
 "nbformat": 4,
 "nbformat_minor": 0
}
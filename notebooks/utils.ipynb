{
 "cells": [
  {
   "cell_type": "code",
   "execution_count": 1,
   "outputs": [
    {
     "name": "stdout",
     "output_type": "stream",
     "text": [
      "C:\\Users\\stfu_\\OneDrive\\Desktop\\BigData\\lab1\\my-mle-template\n"
     ]
    }
   ],
   "source": [
    "cd C:\\Users\\stfu_\\OneDrive\\Desktop\\BigData\\lab1\\my-mle-template"
   ],
   "metadata": {
    "collapsed": false,
    "pycharm": {
     "name": "#%%\n"
    }
   }
  },
  {
   "cell_type": "code",
   "execution_count": 80,
   "outputs": [],
   "source": [
    "import configparser\n",
    "config = configparser.ConfigParser()\n",
    "\n",
    "config['data.raw'] = {\n",
    "    'data1': 'data/winequality-red.csv',\n",
    "    'data2': 'data/winequality-white.csv',\n",
    "    'sep': ';',\n",
    "    'train_pers': '0.8',\n",
    "}\n",
    "config['data.prep'] = {\n",
    "    'train_x': 'data/train_X.csv',\n",
    "    'train_y': 'data/train_y.csv',\n",
    "    'test_x': 'data/test_X.csv',\n",
    "    'test_y': 'data/test_y.csv',\n",
    "}\n",
    "\n",
    "config['train'] = {\n",
    "    'model_name':'random_forest',\n",
    "    'n_estimators': 100,\n",
    "    'criterion': 'gini',\n",
    "    'random_state': 42,\n",
    "    'save_path': 'experiments/rf.joblib'\n",
    "}\n",
    "\n",
    "# config['random_forest'] = {\n",
    "#     'n_estimators': 100,\n",
    "#     'criterion': 'gini',\n",
    "#     'random_state': 42,\n",
    "#     'save_path': 'experiments/rf.joblib'\n",
    "# }\n",
    "\n",
    "with open('config.ini', 'w') as configfile:\n",
    "  config.write(configfile)"
   ],
   "metadata": {
    "collapsed": false,
    "pycharm": {
     "name": "#%%\n"
    }
   }
  },
  {
   "cell_type": "code",
   "execution_count": null,
   "outputs": [],
   "source": [
    "import configparser\n",
    "import pandas as pd\n",
    "from sklearn.model_selection import train_test_split\n",
    "\n",
    "\n",
    "if __name__ == '__main__':\n",
    "    config = configparser.ConfigParser()\n",
    "    config.sections()\n",
    "    config.read('config.ini')\n",
    "\n",
    "    data = []\n",
    "    sep = config['data.raw']['sep']\n",
    "    for k, path in config['data.raw'].items():\n",
    "        if 'data' in k:\n",
    "            data.append(pd.read_csv(path, sep=sep))\n",
    "    data = pd.concat(data)\n",
    "    X_train, X_test, y_train, y_test = train_test_split(\n",
    "        data.iloc[:, :-1], data.iloc[:, -1],\n",
    "        train_size=float(config['data.raw']['train_pers']), random_state=42\n",
    "    )\n",
    "    X_train.to_csv(config['data.prep']['train_x'], index=False)\n",
    "    y_train.to_csv(config['data.prep']['train_y'], index=False)\n",
    "    X_test.to_csv(config['data.prep']['test_x'], index=False)\n",
    "    y_test.to_csv(config['data.prep']['test_y'], index=False)"
   ],
   "metadata": {
    "collapsed": false,
    "pycharm": {
     "name": "#%%\n"
    }
   }
  },
  {
   "cell_type": "code",
   "execution_count": null,
   "outputs": [],
   "source": [],
   "metadata": {
    "collapsed": false,
    "pycharm": {
     "name": "#%%\n"
    }
   }
  },
  {
   "cell_type": "code",
   "execution_count": 77,
   "outputs": [
    {
     "name": "stdout",
     "output_type": "stream",
     "text": [
      "Training...\n",
      "Saving model...\n",
      "Accuracy:\t0.67\n"
     ]
    }
   ],
   "source": [
    "import configparser\n",
    "import pandas as pd\n",
    "from sklearn.ensemble import RandomForestClassifier\n",
    "from sklearn.metrics import accuracy_score\n",
    "from joblib import dump\n",
    "import pickle\n",
    "\n",
    "if __name__ == '__main__':\n",
    "    config = configparser.ConfigParser()\n",
    "    config.sections()\n",
    "    config.read('config.ini')\n",
    "\n",
    "    X_train = pd.read_csv(config['data.prep']['train_x'])\n",
    "    y_train = pd.read_csv(config['data.prep']['train_y'])\n",
    "    X_test = pd.read_csv(config['data.prep']['test_x'])\n",
    "    y_test = pd.read_csv(config['data.prep']['test_y'])\n",
    "\n",
    "    clf = RandomForestClassifier(n_estimators=int(config['random_forest']['n_estimators']),\n",
    "                                 random_state=int(config['random_forest']['random_state']),)\n",
    "    print('Training...')\n",
    "    clf = clf.fit(X_train, y_train.iloc[:,0])\n",
    "    print('Saving model...')\n",
    "    dump(clf, config['random_forest']['save_path'])\n",
    "\n",
    "    y_pred = clf.predict(X_test)\n",
    "    accuracy = accuracy_score(y_test, y_pred)\n",
    "    print(f'Accuracy:\\t{accuracy}')"
   ],
   "metadata": {
    "collapsed": false,
    "pycharm": {
     "name": "#%%\n"
    }
   }
  },
  {
   "cell_type": "code",
   "execution_count": null,
   "outputs": [],
   "source": [],
   "metadata": {
    "collapsed": false,
    "pycharm": {
     "name": "#%%\n"
    }
   }
  },
  {
   "cell_type": "code",
   "execution_count": 81,
   "outputs": [],
   "source": [
    "import numpy as np"
   ],
   "metadata": {
    "collapsed": false,
    "pycharm": {
     "name": "#%%\n"
    }
   }
  },
  {
   "cell_type": "code",
   "execution_count": 82,
   "outputs": [
    {
     "data": {
      "text/plain": "array([[0.40309539, 0.08967387, 0.76679153, ..., 0.14461094, 0.80064573,\n        0.18359434],\n       [0.6231153 , 0.78164659, 0.45591946, ..., 0.34991581, 0.17143901,\n        0.18904677],\n       [0.32776315, 0.2396018 , 0.11118851, ..., 0.1806755 , 0.99917684,\n        0.32835527],\n       ...,\n       [0.73262167, 0.55983569, 0.90186463, ..., 0.44274174, 0.36947729,\n        0.24795643],\n       [0.59491884, 0.35177863, 0.65204271, ..., 0.99115139, 0.42298415,\n        0.083295  ],\n       [0.74378051, 0.19539439, 0.73829874, ..., 0.42553487, 0.3929113 ,\n        0.40358083]])"
     },
     "execution_count": 82,
     "metadata": {},
     "output_type": "execute_result"
    }
   ],
   "source": [
    "np.random.rand(100,100)"
   ],
   "metadata": {
    "collapsed": false,
    "pycharm": {
     "name": "#%%\n"
    }
   }
  },
  {
   "cell_type": "code",
   "execution_count": 1,
   "outputs": [
    {
     "name": "stdout",
     "output_type": "stream",
     "text": [
      "C:\\Users\\stfu_\\OneDrive\\Desktop\\BigData\\lab1\\my-mle-template\n"
     ]
    }
   ],
   "source": [
    "cd .."
   ],
   "metadata": {
    "collapsed": false,
    "pycharm": {
     "name": "#%%\n"
    }
   }
  },
  {
   "cell_type": "code",
   "execution_count": 2,
   "outputs": [],
   "source": [
    "# import pytest\n",
    "from src.split import split\n",
    "from src.train import train\n",
    "from src.predict import calc_score\n",
    "import numpy as np\n",
    "import os\n",
    "\n",
    "\n",
    "\n",
    "def test_train():\n",
    "    os.makedirs(\"tests/tmp\", exist_ok=True)\n",
    "    n, m = 50, 10\n",
    "    X_train = np.random.rand(n, m) * 100\n",
    "    y_train = np.random.randint(10, size=n)\n",
    "    clf_cfg = {\n",
    "        'model_name': 'random_forest',\n",
    "        'n_estimators': 100,\n",
    "        'criterion': 'gini',\n",
    "        'random_state': 42,\n",
    "        'save_path': 'tests/tmp/rf.joblib',\n",
    "    }\n",
    "    train(X_train, y_train, clf_cfg)\n",
    "    assert os.path.exists(clf_cfg['save_path'])\n",
    "    os.rmdir(clf_cfg['save_path'])"
   ],
   "metadata": {
    "collapsed": false,
    "pycharm": {
     "name": "#%%\n"
    }
   }
  },
  {
   "cell_type": "code",
   "execution_count": 3,
   "outputs": [
    {
     "name": "stdout",
     "output_type": "stream",
     "text": [
      "Training...\n",
      "Saving model...\n",
      "Training finished\n"
     ]
    }
   ],
   "source": [
    "test_train()"
   ],
   "metadata": {
    "collapsed": false,
    "pycharm": {
     "name": "#%%\n"
    }
   }
  },
  {
   "cell_type": "code",
   "execution_count": null,
   "outputs": [],
   "source": [],
   "metadata": {
    "collapsed": false,
    "pycharm": {
     "name": "#%%\n"
    }
   }
  }
 ],
 "metadata": {
  "kernelspec": {
   "display_name": "Python 3",
   "language": "python",
   "name": "python3"
  },
  "language_info": {
   "codemirror_mode": {
    "name": "ipython",
    "version": 2
   },
   "file_extension": ".py",
   "mimetype": "text/x-python",
   "name": "python",
   "nbconvert_exporter": "python",
   "pygments_lexer": "ipython2",
   "version": "2.7.6"
  }
 },
 "nbformat": 4,
 "nbformat_minor": 0
}